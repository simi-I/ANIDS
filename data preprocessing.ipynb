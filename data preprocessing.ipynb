{
 "cells": [
  {
   "cell_type": "code",
   "execution_count": 2,
   "id": "19a3ba98",
   "metadata": {},
   "outputs": [],
   "source": [
    "import pandas as pd\n",
    "import numpy as np\n",
    "import random \n",
    "import os\n",
    "import glob\n",
    "import matplotlib.pyplot as plt\n",
    "\n",
    "random.seed(0)"
   ]
  },
  {
   "cell_type": "code",
   "execution_count": 6,
   "id": "3f7ef98a",
   "metadata": {},
   "outputs": [],
   "source": [
    "drop_columns = [\n",
    "    # Dataset Specific Information\n",
    "    \"Flow ID\", \"Src IP\", \n",
    "     \"Src Port\", \"Dst IP\",\n",
    "]\n",
    "\n",
    "mapper = {\n",
    "    'Dst Port': 'Destination Port',\n",
    "    'Tot Fwd Pkts': 'Total Fwd Packets',\n",
    "    'Tot Bwd Pkts': 'Total Backward Packets',\n",
    "    'TotLen Fwd Pkts': 'Fwd Packets Length Total', \n",
    "    'Total Length of Fwd Packets': 'Fwd Packets Length Total',\n",
    "    'TotLen Bwd Pkts': 'Bwd Packets Length Total',\n",
    "    'Total Length of Bwd Packets': 'Bwd Packets Length Total', \n",
    "    'Fwd Pkt Len Max': 'Fwd Packet Length Max',\n",
    "    'Fwd Pkt Len Min': 'Fwd Packet Length Min', \n",
    "    'Fwd Pkt Len Mean': 'Fwd Packet Length Mean', \n",
    "    'Fwd Pkt Len Std': 'Fwd Packet Length Std',\n",
    "    'Bwd Pkt Len Max': 'Bwd Packet Length Max', \n",
    "    'Bwd Pkt Len Min': 'Bwd Packet Length Min', \n",
    "    'Bwd Pkt Len Mean': 'Bwd Packet Length Mean',\n",
    "    'Bwd Pkt Len Std': 'Bwd Packet Length Std', \n",
    "    'Flow Byts/s': 'Flow Bytes/s', \n",
    "    'Flow Pkts/s': 'Flow Packets/s', \n",
    "    'Fwd IAT Tot': 'Fwd IAT Total',\n",
    "    'Bwd IAT Tot': 'Bwd IAT Total', \n",
    "    'Fwd Header Len': 'Fwd Header Length', \n",
    "    'Bwd Header Len': 'Bwd Header Length', \n",
    "    'Fwd Pkts/s': 'Fwd Packets/s',\n",
    "    'Bwd Pkts/s': 'Bwd Packets/s', \n",
    "    'Pkt Len Min': 'Packet Length Min', \n",
    "    'Min Packet Length': 'Packet Length Min',\n",
    "    'Pkt Len Max': 'Packet Length Max', \n",
    "    'Max Packet Length': 'Packet Length Max',\n",
    "    'Pkt Len Mean': 'Packet Length Mean',\n",
    "    'Pkt Len Std': 'Packet Length Std', \n",
    "    'Pkt Len Var': 'Packet Length Variance', \n",
    "    'FIN Flag Cnt': 'FIN Flag Count', \n",
    "    'SYN Flag Cnt': 'SYN Flag Count',\n",
    "    'RST Flag Cnt': 'RST Flag Count', \n",
    "    'PSH Flag Cnt': 'PSH Flag Count', \n",
    "    'ACK Flag Cnt': 'ACK Flag Count', \n",
    "    'URG Flag Cnt': 'URG Flag Count',\n",
    "    'ECE Flag Cnt': 'ECE Flag Count', \n",
    "    'Pkt Size Avg': 'Avg Packet Size',\n",
    "    'Average Packet Size': 'Avg Packet Size',\n",
    "    'Fwd Seg Size Avg': 'Avg Fwd Segment Size',\n",
    "    'Bwd Seg Size Avg': 'Avg Bwd Segment Size', \n",
    "    'Fwd Byts/b Avg': 'Fwd Avg Bytes/Bulk',\n",
    "    'Fwd Pkts/b Avg': 'Fwd Avg Packets/Bulk', \n",
    "    'Fwd Blk Rate Avg': 'Fwd Avg Bulk Rate', \n",
    "    'Bwd Byts/b Avg': 'Bwd Avg Bytes/Bulk',\n",
    "    'Bwd Pkts/b Avg': 'Bwd Avg Packets/Bulk', \n",
    "    'Bwd Blk Rate Avg': 'Bwd Avg Bulk Rate', \n",
    "    'Subflow Fwd Pkts': 'Subflow Fwd Packets',\n",
    "    'Subflow Fwd Byts': 'Subflow Fwd Bytes', \n",
    "    'Subflow Bwd Pkts': 'Subflow Bwd Packets', \n",
    "    'Subflow Bwd Byts': 'Subflow Bwd Bytes',\n",
    "    'Init Fwd Win Byts': 'Init Fwd Win Bytes', \n",
    "    'Init_Win_bytes_forward': 'Init Fwd Win Bytes',\n",
    "    'Init Bwd Win Byts': 'Init Bwd Win Bytes', \n",
    "    'Init_Win_bytes_backward': 'Init Bwd Win Bytes',\n",
    "    'Fwd Act Data Pkts': 'Fwd Act Data Packets',\n",
    "    'act_data_pkt_fwd': 'Fwd Act Data Packets',\n",
    "    'Fwd Seg Size Min': 'Fwd Seg Size Min',\n",
    "    'min_seg_size_forward': 'Fwd Seg Size Min'\n",
    "}"
   ]
  },
  {
   "cell_type": "code",
   "execution_count": 7,
   "id": "5e8a1f89",
   "metadata": {},
   "outputs": [],
   "source": [
    "def plot_day(df):\n",
    "    df.loc[df[\"Label\"] == \"Benign\", 'Timestamp'].plot(style='.', color=\"lightgreen\", label='Benign')\n",
    "    for label in df.Label.unique():\n",
    "        if label != 'Benign':\n",
    "            df.loc[df[\"Label\"] == label, 'Timestamp'].plot(style='.', label=label)\n",
    "    plt.legend()\n",
    "    plt.show()"
   ]
  },
  {
   "cell_type": "code",
   "execution_count": 9,
   "id": "933ad68f",
   "metadata": {},
   "outputs": [],
   "source": [
    " def clean_dataset(dataset, filetypes=['csv']):\n",
    "    # Will search for all files in the dataset subdirectory 'orignal'\n",
    "    for file in os.listdir(f'{dataset}'):\n",
    "        print(f\"------- {file} -------\")\n",
    "        df = pd.read_csv(f\"{dataset}/{file}\", skipinitialspace=True, encoding='latin', low_memory=False)\n",
    "        print(df[\"Label\"].value_counts())\n",
    "        print(f\"Shape: {df.shape}\")\n",
    "\n",
    "        # Rename column names for uniform column names across files\n",
    "        df.rename(columns=mapper, inplace=True)\n",
    "        \n",
    "        df.drop(columns=drop_columns, inplace=True, errors=\"ignore\")\n",
    "\n",
    "\n",
    "        # Parse Timestamp column to pandas datetime\n",
    "        df['Timestamp'] = pd.to_datetime(df['Timestamp'], errors='coerce')\n",
    "        df['Timestamp'] = df['Timestamp'].apply(lambda x: x + pd.Timedelta(hours=12) if x.hour < 8 else x)\n",
    "        df = df.sort_values(by=['Timestamp'])\n",
    "\n",
    "        # Make Label column Categorical\n",
    "        df['Label'].replace({'BENIGN': 'Benign'}, inplace=True)\n",
    "        df['Label'] = df.Label.astype('category')\n",
    "\n",
    "        # Parse Columns to correct dtype\n",
    "        int_col = df.select_dtypes(include='integer').columns\n",
    "        df[int_col] = df[int_col].apply(pd.to_numeric, errors='coerce', downcast='integer')\n",
    "        float_col = df.select_dtypes(include='float').columns\n",
    "        df[float_col] = df[float_col].apply(pd.to_numeric, errors='coerce', downcast='float')\n",
    "        obj_col = df.select_dtypes(include='object').columns\n",
    "        print(f'Columns with dtype == object: {obj_col}')\n",
    "        df[obj_col] = df[obj_col].apply(pd.to_numeric, errors='coerce')\n",
    "\n",
    "        # Drop rows with invalid data\n",
    "        df.replace([np.inf, -np.inf], np.nan, inplace=True)\n",
    "        print(f\"{df.isna().any(axis=1).sum()} invalid rows dropped\")\n",
    "        df.dropna(inplace=True)\n",
    "\n",
    "        # Drop duplicate rows\n",
    "        df.drop_duplicates(inplace=True, subset=df.columns.difference(['Label', 'Timestamp']))\n",
    "        print(df[\"Label\"].value_counts())\n",
    "        print(f\"shape: {df.shape}\\n\")\n",
    "\n",
    "        # Reset index\n",
    "        df.reset_index(inplace=True, drop=True)\n",
    "\n",
    "        # Plot resulting file\n",
    "        plot_day(df)\n",
    "\n",
    "        # Save to file\n",
    "        if 'csv' in filetypes:\n",
    "            df.to_csv(f'{dataset}/clean/{file}.csv')\n",
    "       "
   ]
  },
  {
   "cell_type": "code",
   "execution_count": 10,
   "id": "bf9ea35b",
   "metadata": {},
   "outputs": [],
   "source": [
    "def aggregate_data(dataset, save=True, filetype='csv'):\n",
    "    # Will search for all files in the 'clean' directory of the correct filetype and aggregate them\n",
    "    all_data = pd.DataFrame()\n",
    "    for file in glob.glob(f'{dataset}/clean/*.{filetype}'):\n",
    "        print(file)\n",
    "        df = pd.DataFrame()\n",
    "        if filetype == 'csv':\n",
    "            df = pd.read_csv(file)\n",
    "        \n",
    "        print(df.shape)\n",
    "        print(f'{df[\"Label\"].value_counts()}\\n')\n",
    "        all_data = all_data.append(df, ignore_index=True)\n",
    "    print('ALL DATA')\n",
    "    duplicates = all_data[all_data.duplicated(subset=all_data.columns.difference(['Label', 'Timestamp']))]\n",
    "    print('Removed duplicates after aggregating:')\n",
    "    print(duplicates.Label.value_counts())\n",
    "    print('Resulting Dataset')\n",
    "    all_data.drop(duplicates.index, axis=0, inplace=True)\n",
    "    all_data.reset_index(inplace=True, drop=True)\n",
    "    print(all_data.shape)\n",
    "    print(f'{all_data[\"Label\"].value_counts()}\\n')\n",
    "    if save:\n",
    "        malicious = all_data[all_data.Label != 'Benign'].reset_index(drop = True)\n",
    "        benign = all_data[all_data.Label == 'Benign'].reset_index(drop = True)\n",
    "        if filetype == 'csv':\n",
    "            all_data.to_csv(f'{dataset}/clean/all_data.csv')\n",
    "            malicious.to_csv(f'{dataset}/clean/all_malicious.csv')\n",
    "            benign.to_csv(f'{dataset}/clean/all_benign.csv')\n",
    "        "
   ]
  },
  {
   "cell_type": "code",
   "execution_count": null,
   "id": "b874f8f3",
   "metadata": {},
   "outputs": [
    {
     "name": "stdout",
     "output_type": "stream",
     "text": [
      "------- Thursday-01-03-2018_TrafficForML_CICFlowMeter.csv -------\n",
      "Benign           238037\n",
      "Infilteration     93063\n",
      "Label                25\n",
      "Name: Label, dtype: int64\n",
      "Shape: (331125, 80)\n",
      "Columns with dtype == object: Index(['Destination Port', 'Protocol', 'Flow Duration', 'Total Fwd Packets',\n",
      "       'Total Backward Packets', 'Fwd Packets Length Total',\n",
      "       'Bwd Packets Length Total', 'Fwd Packet Length Max',\n",
      "       'Fwd Packet Length Min', 'Fwd Packet Length Mean',\n",
      "       'Fwd Packet Length Std', 'Bwd Packet Length Max',\n",
      "       'Bwd Packet Length Min', 'Bwd Packet Length Mean',\n",
      "       'Bwd Packet Length Std', 'Flow Bytes/s', 'Flow Packets/s',\n",
      "       'Flow IAT Mean', 'Flow IAT Std', 'Flow IAT Max', 'Flow IAT Min',\n",
      "       'Fwd IAT Total', 'Fwd IAT Mean', 'Fwd IAT Std', 'Fwd IAT Max',\n",
      "       'Fwd IAT Min', 'Bwd IAT Total', 'Bwd IAT Mean', 'Bwd IAT Std',\n",
      "       'Bwd IAT Max', 'Bwd IAT Min', 'Fwd PSH Flags', 'Bwd PSH Flags',\n",
      "       'Fwd URG Flags', 'Bwd URG Flags', 'Fwd Header Length',\n",
      "       'Bwd Header Length', 'Fwd Packets/s', 'Bwd Packets/s',\n",
      "       'Packet Length Min', 'Packet Length Max', 'Packet Length Mean',\n",
      "       'Packet Length Std', 'Packet Length Variance', 'FIN Flag Count',\n",
      "       'SYN Flag Count', 'RST Flag Count', 'PSH Flag Count', 'ACK Flag Count',\n",
      "       'URG Flag Count', 'CWE Flag Count', 'ECE Flag Count', 'Down/Up Ratio',\n",
      "       'Avg Packet Size', 'Avg Fwd Segment Size', 'Avg Bwd Segment Size',\n",
      "       'Fwd Avg Bytes/Bulk', 'Fwd Avg Packets/Bulk', 'Fwd Avg Bulk Rate',\n",
      "       'Bwd Avg Bytes/Bulk', 'Bwd Avg Packets/Bulk', 'Bwd Avg Bulk Rate',\n",
      "       'Subflow Fwd Packets', 'Subflow Fwd Bytes', 'Subflow Bwd Packets',\n",
      "       'Subflow Bwd Bytes', 'Init Fwd Win Bytes', 'Init Bwd Win Bytes',\n",
      "       'Fwd Act Data Packets', 'Fwd Seg Size Min', 'Active Mean', 'Active Std',\n",
      "       'Active Max', 'Active Min', 'Idle Mean', 'Idle Std', 'Idle Max',\n",
      "       'Idle Min'],\n",
      "      dtype='object')\n",
      "2944 invalid rows dropped\n",
      "Benign           202357\n",
      "Infilteration     77461\n",
      "Label                 0\n",
      "Name: Label, dtype: int64\n",
      "shape: (279818, 80)\n",
      "\n"
     ]
    },
    {
     "data": {
      "image/png": "[encoded data removed]",
      "text/plain": [
       "<Figure size 432x288 with 1 Axes>"
      ]
     },
     "metadata": {
      "needs_background": "light"
     },
     "output_type": "display_data"
    },
    {
     "name": "stdout",
     "output_type": "stream",
     "text": [
      "------- Friday-02-03-2018_TrafficForML_CICFlowMeter.csv -------\n",
      "Benign    762384\n",
      "Bot       286191\n",
      "Name: Label, dtype: int64\n",
      "Shape: (1048575, 80)\n",
      "Columns with dtype == object: Index([], dtype='object')\n",
      "4050 invalid rows dropped\n",
      "Benign    675369\n",
      "Bot       144535\n",
      "Name: Label, dtype: int64\n",
      "shape: (819904, 80)\n",
      "\n"
     ]
    },
    {
     "data": {
      "image/png": "[encoded data removed]",
      "text/plain": [
       "<Figure size 432x288 with 1 Axes>"
      ]
     },
     "metadata": {
      "needs_background": "light"
     },
     "output_type": "display_data"
    },
    {
     "name": "stdout",
     "output_type": "stream",
     "text": [
      "------- Friday-16-02-2018_TrafficForML_CICFlowMeter.csv -------\n",
      "DoS attacks-Hulk            461912\n",
      "Benign                      446772\n",
      "DoS attacks-SlowHTTPTest    139890\n",
      "Label                            1\n",
      "Name: Label, dtype: int64\n",
      "Shape: (1048575, 80)\n",
      "Columns with dtype == object: Index(['Destination Port', 'Protocol', 'Flow Duration', 'Total Fwd Packets',\n",
      "       'Total Backward Packets', 'Fwd Packets Length Total',\n",
      "       'Bwd Packets Length Total', 'Fwd Packet Length Max',\n",
      "       'Fwd Packet Length Min', 'Fwd Packet Length Mean',\n",
      "       'Fwd Packet Length Std', 'Bwd Packet Length Max',\n",
      "       'Bwd Packet Length Min', 'Bwd Packet Length Mean',\n",
      "       'Bwd Packet Length Std', 'Flow Bytes/s', 'Flow Packets/s',\n",
      "       'Flow IAT Mean', 'Flow IAT Std', 'Flow IAT Max', 'Flow IAT Min',\n",
      "       'Fwd IAT Total', 'Fwd IAT Mean', 'Fwd IAT Std', 'Fwd IAT Max',\n",
      "       'Fwd IAT Min', 'Bwd IAT Total', 'Bwd IAT Mean', 'Bwd IAT Std',\n",
      "       'Bwd IAT Max', 'Bwd IAT Min', 'Fwd PSH Flags', 'Bwd PSH Flags',\n",
      "       'Fwd URG Flags', 'Bwd URG Flags', 'Fwd Header Length',\n",
      "       'Bwd Header Length', 'Fwd Packets/s', 'Bwd Packets/s',\n",
      "       'Packet Length Min', 'Packet Length Max', 'Packet Length Mean',\n",
      "       'Packet Length Std', 'Packet Length Variance', 'FIN Flag Count',\n",
      "       'SYN Flag Count', 'RST Flag Count', 'PSH Flag Count', 'ACK Flag Count',\n",
      "       'URG Flag Count', 'CWE Flag Count', 'ECE Flag Count', 'Down/Up Ratio',\n",
      "       'Avg Packet Size', 'Avg Fwd Segment Size', 'Avg Bwd Segment Size',\n",
      "       'Fwd Avg Bytes/Bulk', 'Fwd Avg Packets/Bulk', 'Fwd Avg Bulk Rate',\n",
      "       'Bwd Avg Bytes/Bulk', 'Bwd Avg Packets/Bulk', 'Bwd Avg Bulk Rate',\n",
      "       'Subflow Fwd Packets', 'Subflow Fwd Bytes', 'Subflow Bwd Packets',\n",
      "       'Subflow Bwd Bytes', 'Init Fwd Win Bytes', 'Init Bwd Win Bytes',\n",
      "       'Fwd Act Data Packets', 'Fwd Seg Size Min', 'Active Mean', 'Active Std',\n",
      "       'Active Max', 'Active Min', 'Idle Mean', 'Idle Std', 'Idle Max',\n",
      "       'Idle Min'],\n",
      "      dtype='object')\n",
      "1 invalid rows dropped\n",
      "Benign                      446647\n",
      "DoS attacks-Hulk            145199\n",
      "DoS attacks-SlowHTTPTest        55\n",
      "Label                            0\n",
      "Name: Label, dtype: int64\n",
      "shape: (591901, 80)\n",
      "\n"
     ]
    },
    {
     "data": {
      "image/png": "[encoded data removed]",
      "text/plain": [
       "<Figure size 432x288 with 1 Axes>"
      ]
     },
     "metadata": {
      "needs_background": "light"
     },
     "output_type": "display_data"
    },
    {
     "name": "stdout",
     "output_type": "stream",
     "text": [
      "------- Friday-23-02-2018_TrafficForML_CICFlowMeter.csv -------\n",
      "Benign              1048009\n",
      "Brute Force -Web        362\n",
      "Brute Force -XSS        151\n",
      "SQL Injection            53\n",
      "Name: Label, dtype: int64\n",
      "Shape: (1048575, 80)\n",
      "Columns with dtype == object: Index([], dtype='object')\n",
      "5708 invalid rows dropped\n",
      "Benign              904640\n",
      "Brute Force -Web       339\n",
      "Brute Force -XSS       150\n",
      "SQL Injection           48\n",
      "Name: Label, dtype: int64\n",
      "shape: (905177, 80)\n",
      "\n"
     ]
    },
    {
     "data": {
      "image/png": "[encoded data removed]",
      "text/plain": [
       "<Figure size 432x288 with 1 Axes>"
      ]
     },
     "metadata": {
      "needs_background": "light"
     },
     "output_type": "display_data"
    },
    {
     "name": "stdout",
     "output_type": "stream",
     "text": [
      "------- Thursday-15-02-2018_TrafficForML_CICFlowMeter.csv -------\n",
      "Benign                   996077\n",
      "DoS attacks-GoldenEye     41508\n",
      "DoS attacks-Slowloris     10990\n",
      "Name: Label, dtype: int64\n",
      "Shape: (1048575, 80)\n",
      "Columns with dtype == object: Index([], dtype='object')\n",
      "8027 invalid rows dropped\n",
      "Benign                   825632\n",
      "DoS attacks-GoldenEye     41406\n",
      "DoS attacks-Slowloris      9908\n",
      "Name: Label, dtype: int64\n",
      "shape: (876946, 80)\n",
      "\n"
     ]
    },
    {
     "data": {
      "image/png": "[encoded data removed]",
      "text/plain": [
       "<Figure size 432x288 with 1 Axes>"
      ]
     },
     "metadata": {
      "needs_background": "light"
     },
     "output_type": "display_data"
    },
    {
     "name": "stdout",
     "output_type": "stream",
     "text": [
      "------- Wednesday-28-02-2018_TrafficForML_CICFlowMeter.csv -------\n",
      "Benign           544200\n",
      "Infilteration     68871\n",
      "Label                33\n",
      "Name: Label, dtype: int64\n",
      "Shape: (613104, 80)\n",
      "Columns with dtype == object: Index(['Destination Port', 'Protocol', 'Flow Duration', 'Total Fwd Packets',\n",
      "       'Total Backward Packets', 'Fwd Packets Length Total',\n",
      "       'Bwd Packets Length Total', 'Fwd Packet Length Max',\n",
      "       'Fwd Packet Length Min', 'Fwd Packet Length Mean',\n",
      "       'Fwd Packet Length Std', 'Bwd Packet Length Max',\n",
      "       'Bwd Packet Length Min', 'Bwd Packet Length Mean',\n",
      "       'Bwd Packet Length Std', 'Flow Bytes/s', 'Flow Packets/s',\n",
      "       'Flow IAT Mean', 'Flow IAT Std', 'Flow IAT Max', 'Flow IAT Min',\n",
      "       'Fwd IAT Total', 'Fwd IAT Mean', 'Fwd IAT Std', 'Fwd IAT Max',\n",
      "       'Fwd IAT Min', 'Bwd IAT Total', 'Bwd IAT Mean', 'Bwd IAT Std',\n",
      "       'Bwd IAT Max', 'Bwd IAT Min', 'Fwd PSH Flags', 'Bwd PSH Flags',\n",
      "       'Fwd URG Flags', 'Bwd URG Flags', 'Fwd Header Length',\n",
      "       'Bwd Header Length', 'Fwd Packets/s', 'Bwd Packets/s',\n",
      "       'Packet Length Min', 'Packet Length Max', 'Packet Length Mean',\n",
      "       'Packet Length Std', 'Packet Length Variance', 'FIN Flag Count',\n",
      "       'SYN Flag Count', 'RST Flag Count', 'PSH Flag Count', 'ACK Flag Count',\n",
      "       'URG Flag Count', 'CWE Flag Count', 'ECE Flag Count', 'Down/Up Ratio',\n",
      "       'Avg Packet Size', 'Avg Fwd Segment Size', 'Avg Bwd Segment Size',\n",
      "       'Fwd Avg Bytes/Bulk', 'Fwd Avg Packets/Bulk', 'Fwd Avg Bulk Rate',\n",
      "       'Bwd Avg Bytes/Bulk', 'Bwd Avg Packets/Bulk', 'Bwd Avg Bulk Rate',\n",
      "       'Subflow Fwd Packets', 'Subflow Fwd Bytes', 'Subflow Bwd Packets',\n",
      "       'Subflow Bwd Bytes', 'Init Fwd Win Bytes', 'Init Bwd Win Bytes',\n",
      "       'Fwd Act Data Packets', 'Fwd Seg Size Min', 'Active Mean', 'Active Std',\n",
      "       'Active Max', 'Active Min', 'Idle Mean', 'Idle Std', 'Idle Max',\n",
      "       'Idle Min'],\n",
      "      dtype='object')\n",
      "6202 invalid rows dropped\n",
      "Benign           448857\n",
      "Infilteration     55882\n",
      "Label                 0\n",
      "Name: Label, dtype: int64\n",
      "shape: (504739, 80)\n",
      "\n"
     ]
    },
    {
     "data": {
      "image/png": "[encoded data removed]",
      "text/plain": [
       "<Figure size 432x288 with 1 Axes>"
      ]
     },
     "metadata": {
      "needs_background": "light"
     },
     "output_type": "display_data"
    },
    {
     "name": "stdout",
     "output_type": "stream",
     "text": [
      "------- Thursday-22-02-2018_TrafficForML_CICFlowMeter.csv -------\n",
      "Benign              1048213\n",
      "Brute Force -Web        249\n",
      "Brute Force -XSS         79\n",
      "SQL Injection            34\n",
      "Name: Label, dtype: int64\n",
      "Shape: (1048575, 80)\n",
      "Columns with dtype == object: Index([], dtype='object')\n",
      "5610 invalid rows dropped\n",
      "Benign              901219\n",
      "Brute Force -Web       228\n",
      "Brute Force -XSS        79\n",
      "SQL Injection           31\n",
      "Name: Label, dtype: int64\n",
      "shape: (901557, 80)\n",
      "\n"
     ]
    },
    {
     "data": {
      "image/png": "[encoded data removed]",
      "text/plain": [
       "<Figure size 432x288 with 1 Axes>"
      ]
     },
     "metadata": {
      "needs_background": "light"
     },
     "output_type": "display_data"
    },
    {
     "name": "stdout",
     "output_type": "stream",
     "text": [
      "------- Wednesday-14-02-2018_TrafficForML_CICFlowMeter.csv -------\n",
      "Benign            667626\n",
      "FTP-BruteForce    193360\n",
      "SSH-Bruteforce    187589\n",
      "Name: Label, dtype: int64\n",
      "Shape: (1048575, 80)\n",
      "Columns with dtype == object: Index([], dtype='object')\n",
      "3824 invalid rows dropped\n",
      "Benign            577037\n",
      "SSH-Bruteforce     94041\n",
      "FTP-BruteForce        53\n",
      "Name: Label, dtype: int64\n",
      "shape: (671131, 80)\n",
      "\n"
     ]
    },
    {
     "data": {
      "image/png": "[encoded data removed]",
      "text/plain": [
       "<Figure size 432x288 with 1 Axes>"
      ]
     },
     "metadata": {
      "needs_background": "light"
     },
     "output_type": "display_data"
    },
    {
     "name": "stdout",
     "output_type": "stream",
     "text": [
      "------- Wednesday-21-02-2018_TrafficForML_CICFlowMeter.csv -------\n",
      "DDOS attack-HOIC        686012\n",
      "Benign                  360833\n",
      "DDOS attack-LOIC-UDP      1730\n",
      "Name: Label, dtype: int64\n",
      "Shape: (1048575, 80)\n",
      "Columns with dtype == object: Index([], dtype='object')\n",
      "0 invalid rows dropped\n",
      "Benign                  360814\n",
      "DDOS attack-HOIC        198861\n",
      "DDOS attack-LOIC-UDP      1730\n",
      "Name: Label, dtype: int64\n",
      "shape: (561405, 80)\n",
      "\n"
     ]
    },
    {
     "data": {
      "image/png": "[encoded data removed]",
      "text/plain": [
       "<Figure size 432x288 with 1 Axes>"
      ]
     },
     "metadata": {
      "needs_background": "light"
     },
     "output_type": "display_data"
    },
    {
     "name": "stdout",
     "output_type": "stream",
     "text": [
      "------- Thuesday-20-02-2018_TrafficForML_CICFlowMeter.csv -------\n",
      "Benign                    7372557\n",
      "DDoS attacks-LOIC-HTTP     576191\n",
      "Name: Label, dtype: int64\n",
      "Shape: (7948748, 84)\n",
      "Columns with dtype == object: Index([], dtype='object')\n",
      "59453 invalid rows dropped\n",
      "Benign                    5498131\n",
      "DDoS attacks-LOIC-HTTP     575364\n",
      "Name: Label, dtype: int64\n",
      "shape: (6073495, 80)\n",
      "\n"
     ]
    },
    {
     "data": {
      "image/png": "[encoded data removed]",
      "text/plain": [
       "<Figure size 432x288 with 1 Axes>"
      ]
     },
     "metadata": {
      "needs_background": "light"
     },
     "output_type": "display_data"
    }
   ],
   "source": [
    "clean_dataset('Dataset', filetypes=['csv'])"
   ]
  },
  {
   "cell_type": "code",
   "execution_count": 13,
   "id": "91b3ad0b",
   "metadata": {},
   "outputs": [
    {
     "name": "stdout",
     "output_type": "stream",
     "text": [
      "Dataset/clean/Thursday-01-03-2018_TrafficForML_CICFlowMeter.csv.csv\n",
      "(279818, 81)\n",
      "Benign           202357\n",
      "Infilteration     77461\n",
      "Name: Label, dtype: int64\n",
      "\n",
      "Dataset/clean/Friday-02-03-2018_TrafficForML_CICFlowMeter.csv.csv\n"
     ]
    },
    {
     "name": "stderr",
     "output_type": "stream",
     "text": [
      "/tmp/ipykernel_144/1628307185.py:12: FutureWarning: The frame.append method is deprecated and will be removed from pandas in a future version. Use pandas.concat instead.\n",
      "  all_data = all_data.append(df, ignore_index=True)\n"
     ]
    },
    {
     "name": "stdout",
     "output_type": "stream",
     "text": [
      "(819904, 81)\n",
      "Benign    675369\n",
      "Bot       144535\n",
      "Name: Label, dtype: int64\n",
      "\n",
      "Dataset/clean/Friday-16-02-2018_TrafficForML_CICFlowMeter.csv.csv\n"
     ]
    },
    {
     "name": "stderr",
     "output_type": "stream",
     "text": [
      "/tmp/ipykernel_144/1628307185.py:12: FutureWarning: The frame.append method is deprecated and will be removed from pandas in a future version. Use pandas.concat instead.\n",
      "  all_data = all_data.append(df, ignore_index=True)\n"
     ]
    },
    {
     "name": "stdout",
     "output_type": "stream",
     "text": [
      "(591901, 81)\n",
      "Benign                      446647\n",
      "DoS attacks-Hulk            145199\n",
      "DoS attacks-SlowHTTPTest        55\n",
      "Name: Label, dtype: int64\n",
      "\n"
     ]
    },
    {
     "name": "stderr",
     "output_type": "stream",
     "text": [
      "/tmp/ipykernel_144/1628307185.py:12: FutureWarning: The frame.append method is deprecated and will be removed from pandas in a future version. Use pandas.concat instead.\n",
      "  all_data = all_data.append(df, ignore_index=True)\n"
     ]
    },
    {
     "name": "stdout",
     "output_type": "stream",
     "text": [
      "Dataset/clean/Friday-23-02-2018_TrafficForML_CICFlowMeter.csv.csv\n",
      "(905177, 81)\n",
      "Benign              904640\n",
      "Brute Force -Web       339\n",
      "Brute Force -XSS       150\n",
      "SQL Injection           48\n",
      "Name: Label, dtype: int64\n",
      "\n"
     ]
    },
    {
     "name": "stderr",
     "output_type": "stream",
     "text": [
      "/tmp/ipykernel_144/1628307185.py:12: FutureWarning: The frame.append method is deprecated and will be removed from pandas in a future version. Use pandas.concat instead.\n",
      "  all_data = all_data.append(df, ignore_index=True)\n"
     ]
    },
    {
     "name": "stdout",
     "output_type": "stream",
     "text": [
      "Dataset/clean/Thursday-15-02-2018_TrafficForML_CICFlowMeter.csv.csv\n",
      "(876946, 81)\n",
      "Benign                   825632\n",
      "DoS attacks-GoldenEye     41406\n",
      "DoS attacks-Slowloris      9908\n",
      "Name: Label, dtype: int64\n",
      "\n"
     ]
    },
    {
     "name": "stderr",
     "output_type": "stream",
     "text": [
      "/tmp/ipykernel_144/1628307185.py:12: FutureWarning: The frame.append method is deprecated and will be removed from pandas in a future version. Use pandas.concat instead.\n",
      "  all_data = all_data.append(df, ignore_index=True)\n"
     ]
    },
    {
     "name": "stdout",
     "output_type": "stream",
     "text": [
      "Dataset/clean/Wednesday-28-02-2018_TrafficForML_CICFlowMeter.csv.csv\n",
      "(504739, 81)\n",
      "Benign           448857\n",
      "Infilteration     55882\n",
      "Name: Label, dtype: int64\n",
      "\n"
     ]
    },
    {
     "name": "stderr",
     "output_type": "stream",
     "text": [
      "/tmp/ipykernel_144/1628307185.py:12: FutureWarning: The frame.append method is deprecated and will be removed from pandas in a future version. Use pandas.concat instead.\n",
      "  all_data = all_data.append(df, ignore_index=True)\n"
     ]
    },
    {
     "name": "stdout",
     "output_type": "stream",
     "text": [
      "Dataset/clean/Thursday-22-02-2018_TrafficForML_CICFlowMeter.csv.csv\n",
      "(901557, 81)\n",
      "Benign              901219\n",
      "Brute Force -Web       228\n",
      "Brute Force -XSS        79\n",
      "SQL Injection           31\n",
      "Name: Label, dtype: int64\n",
      "\n"
     ]
    },
    {
     "name": "stderr",
     "output_type": "stream",
     "text": [
      "/tmp/ipykernel_144/1628307185.py:12: FutureWarning: The frame.append method is deprecated and will be removed from pandas in a future version. Use pandas.concat instead.\n",
      "  all_data = all_data.append(df, ignore_index=True)\n"
     ]
    },
    {
     "name": "stdout",
     "output_type": "stream",
     "text": [
      "Dataset/clean/Wednesday-14-02-2018_TrafficForML_CICFlowMeter.csv.csv\n",
      "(671131, 81)\n",
      "Benign            577037\n",
      "SSH-Bruteforce     94041\n",
      "FTP-BruteForce        53\n",
      "Name: Label, dtype: int64\n",
      "\n"
     ]
    },
    {
     "name": "stderr",
     "output_type": "stream",
     "text": [
      "/tmp/ipykernel_144/1628307185.py:12: FutureWarning: The frame.append method is deprecated and will be removed from pandas in a future version. Use pandas.concat instead.\n",
      "  all_data = all_data.append(df, ignore_index=True)\n"
     ]
    },
    {
     "name": "stdout",
     "output_type": "stream",
     "text": [
      "Dataset/clean/Wednesday-21-02-2018_TrafficForML_CICFlowMeter.csv.csv\n",
      "(561405, 81)\n",
      "Benign                  360814\n",
      "DDOS attack-HOIC        198861\n",
      "DDOS attack-LOIC-UDP      1730\n",
      "Name: Label, dtype: int64\n",
      "\n"
     ]
    },
    {
     "name": "stderr",
     "output_type": "stream",
     "text": [
      "/tmp/ipykernel_144/1628307185.py:12: FutureWarning: The frame.append method is deprecated and will be removed from pandas in a future version. Use pandas.concat instead.\n",
      "  all_data = all_data.append(df, ignore_index=True)\n"
     ]
    },
    {
     "name": "stdout",
     "output_type": "stream",
     "text": [
      "Dataset/clean/Thuesday-20-02-2018_TrafficForML_CICFlowMeter.csv.csv\n",
      "(6073495, 81)\n",
      "Benign                    5498131\n",
      "DDoS attacks-LOIC-HTTP     575364\n",
      "Name: Label, dtype: int64\n",
      "\n"
     ]
    },
    {
     "name": "stderr",
     "output_type": "stream",
     "text": [
      "/tmp/ipykernel_144/1628307185.py:12: FutureWarning: The frame.append method is deprecated and will be removed from pandas in a future version. Use pandas.concat instead.\n",
      "  all_data = all_data.append(df, ignore_index=True)\n"
     ]
    },
    {
     "name": "stdout",
     "output_type": "stream",
     "text": [
      "ALL DATA\n",
      "Removed duplicates after aggregating:\n",
      "Series([], Name: Label, dtype: int64)\n",
      "Resulting Dataset\n",
      "(12186073, 81)\n",
      "Benign                      10840703\n",
      "DDoS attacks-LOIC-HTTP        575364\n",
      "DDOS attack-HOIC              198861\n",
      "DoS attacks-Hulk              145199\n",
      "Bot                           144535\n",
      "Infilteration                 133343\n",
      "SSH-Bruteforce                 94041\n",
      "DoS attacks-GoldenEye          41406\n",
      "DoS attacks-Slowloris           9908\n",
      "DDOS attack-LOIC-UDP            1730\n",
      "Brute Force -Web                 567\n",
      "Brute Force -XSS                 229\n",
      "SQL Injection                     79\n",
      "DoS attacks-SlowHTTPTest          55\n",
      "FTP-BruteForce                    53\n",
      "Name: Label, dtype: int64\n",
      "\n"
     ]
    }
   ],
   "source": [
    "aggregate_data('Dataset', save=True, filetype='csv')"
   ]
  },
  {
   "cell_type": "code",
   "execution_count": 3,
   "id": "4ceaef0a",
   "metadata": {},
   "outputs": [
    {
     "data": {
      "text/plain": [
       "Benign                      10840703\n",
       "DDoS attacks-LOIC-HTTP        575364\n",
       "DDOS attack-HOIC              198861\n",
       "DoS attacks-Hulk              145199\n",
       "Bot                           144535\n",
       "Infilteration                 133343\n",
       "SSH-Bruteforce                 94041\n",
       "DoS attacks-GoldenEye          41406\n",
       "DoS attacks-Slowloris           9908\n",
       "DDOS attack-LOIC-UDP            1730\n",
       "Brute Force -Web                 567\n",
       "Brute Force -XSS                 229\n",
       "SQL Injection                     79\n",
       "DoS attacks-SlowHTTPTest          55\n",
       "FTP-BruteForce                    53\n",
       "Name: Label, dtype: int64"
      ]
     },
     "execution_count": 3,
     "metadata": {},
     "output_type": "execute_result"
    }
   ],
   "source": [
    "df=pd.read_csv(\"Dataset/clean/all_data.csv\", index_col=None, header=0, low_memory=False)\n",
    "df\n",
    "df['Label'].value_counts()"
   ]
  },
  {
   "cell_type": "code",
   "execution_count": null,
   "id": "5ec87ef9",
   "metadata": {},
   "outputs": [],
   "source": [
    "data = df.groupby('Label').sample(frac=0.30, random_state=3)\n",
    "data\n",
    "data['Label'].value_counts()"
   ]
  },
  {
   "cell_type": "code",
   "execution_count": null,
   "id": "dccf39ed",
   "metadata": {},
   "outputs": [],
   "source": [
    "data.to_csv(f'Sample.csv')"
   ]
  }
 ],
 "metadata": {
  "kernelspec": {
   "display_name": "Python 3 (ipykernel)",
   "language": "python",
   "name": "python3"
  },
  "language_info": {
   "codemirror_mode": {
    "name": "ipython",
    "version": 3
   },
   "file_extension": ".py",
   "mimetype": "text/x-python",
   "name": "python",
   "nbconvert_exporter": "python",
   "pygments_lexer": "ipython3",
   "version": "3.9.7"
  }
 },
 "nbformat": 4,
 "nbformat_minor": 5
}
